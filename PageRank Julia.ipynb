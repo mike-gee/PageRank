{
 "cells": [
  {
   "cell_type": "markdown",
   "metadata": {},
   "source": [
    "# PageRank Algorithm"
   ]
  },
  {
   "cell_type": "code",
   "execution_count": 1,
   "metadata": {},
   "outputs": [
    {
     "data": {
      "text/plain": [
       "pagerank (generic function with 1 method)"
      ]
     },
     "execution_count": 1,
     "metadata": {},
     "output_type": "execute_result"
    }
   ],
   "source": [
    "function pagerank(M, max_iterations, d) \n",
    "    \"\"\"PageRank: Rank the input pages\n",
    "    \n",
    "    Parameters\n",
    "    ---------- \n",
    "    M : Array\n",
    "        Transition Matrix of Directed Graph of Websites\n",
    "    \n",
    "    max_iterations: int\n",
    "        Maximum iterations for PageRank\n",
    "    \n",
    "    d: float (0 < d < 1)\n",
    "        damping coefficient. The probability that a random surfer will not jump to an arbitrary node\n",
    "    \n",
    "    Returns\n",
    "    -------\n",
    "    Vector (size N)\n",
    "        The ranking (0 < ranking < 1) of each webpage\n",
    "    \"\"\"\n",
    "    # Define Margin of Error\n",
    "    e = 1.0e-6\n",
    "    \n",
    "    # Define number of web pages\n",
    "    N = size(M)[1]\n",
    "    \n",
    "    # Evenly distributing random surfer\n",
    "    v = fill(1.0/N, N)\n",
    "    \n",
    "    # Create copy of last v to margin of error\n",
    "    v_last = copy(v)\n",
    "    \n",
    "    # Remove zero columns from transition matrix (replace with 1/N)\n",
    "    for col in 1:N\n",
    "        if (M[:,col] == zeros(N))\n",
    "            M[:,col] = fill(1.0/N, N)\n",
    "        end\n",
    "    end\n",
    "    \n",
    "    for loop in 1:max_iterations\n",
    "        # Iterate on v\n",
    "        v = d * M * v .+ (1 - d) / N\n",
    "        \n",
    "        # Calculate the error between current and last state vectors\n",
    "        difference = abs.(v_last - v) # Sum all error values\n",
    "        error = sum(difference)\n",
    "        \n",
    "        # Compare to margin of error\n",
    "        if(error < N * e)\n",
    "            return v\n",
    "        end\n",
    "\n",
    "        # Set last state vector to current state\n",
    "        v_last = v\n",
    "    end\n",
    "    \n",
    "    return v\n",
    "end"
   ]
  },
  {
   "cell_type": "markdown",
   "metadata": {},
   "source": [
    "# Example Usage"
   ]
  },
  {
   "cell_type": "code",
   "execution_count": 2,
   "metadata": {},
   "outputs": [
    {
     "data": {
      "text/plain": [
       "pre_process_webpages (generic function with 1 method)"
      ]
     },
     "execution_count": 2,
     "metadata": {},
     "output_type": "execute_result"
    }
   ],
   "source": [
    "function pre_process_webpages(webpages)\n",
    "    \"\"\"Pre-process Webpages: Define an N x N matrix from webpages data\n",
    "    \n",
    "    Parameters \n",
    "    ---------- \n",
    "    webpages : Array\n",
    "        A 2D array describing webpages and any existsing links to other webpages\n",
    "    \n",
    "    Returns \n",
    "    -------\n",
    "    Matrix (N x N)\n",
    "        The corresponding transition matrix to the input webpage array\n",
    "    \"\"\"\n",
    "    # Get N: size of matrix\n",
    "    N = size(webpages)[1]\n",
    "    \n",
    "    # Define M: an empty N x N matrix with values 0\n",
    "    M = zeros((N, N))\n",
    "    \n",
    "    # For faster lookup processing, reindex websites from naturals to\n",
    "        # the websites themselves\n",
    "        # Define lookup dictionary\n",
    "    lookup_dict = Dict{String,Int64}()\n",
    "        # Load lookup dictionary\n",
    "    \n",
    "    for website in 1:N \n",
    "        lookup_dict[webpages[website][1]] = website;\n",
    "    end\n",
    "        \n",
    "    # Insert each website into the\n",
    "    for website in 1:N\n",
    "            # Get number of valid links\n",
    "            # Needs to loop through instead of calling size()\n",
    "            # because if link not defined in webpages we discard it\n",
    "        number_of_edges = 0\n",
    "        for link in webpages[website][2]\n",
    "            # Check that valid link and link is not the web page itself\n",
    "            if (haskey(lookup_dict, link) && webpages[website][1] != link)\n",
    "                number_of_edges = number_of_edges + 1\n",
    "            end\n",
    "        end\n",
    "        \n",
    "        # Write the probability of moving from node j to i # for each M_{ij}\n",
    "        for link in webpages[website][2]\n",
    "            if (haskey(lookup_dict, link) && webpages[website][1] != link)\n",
    "                M[lookup_dict[link], website] = 1/number_of_edges\n",
    "            end \n",
    "        end\n",
    "    end\n",
    "    return M \n",
    "end"
   ]
  },
  {
   "cell_type": "code",
   "execution_count": 3,
   "metadata": {},
   "outputs": [
    {
     "data": {
      "text/plain": [
       "print_output (generic function with 1 method)"
      ]
     },
     "execution_count": 3,
     "metadata": {},
     "output_type": "execute_result"
    }
   ],
   "source": [
    "function print_output(webpages, result)\n",
    "    \"\"\"Print Output: Rank and output the ranks in plan text\n",
    "    \n",
    "    Parameters\n",
    "    ---------- \n",
    "    \n",
    "    webpages : Array\n",
    "        A 2D array describing webpages and any existsing links to other webpages\n",
    "    \n",
    "    result: Vector (size N)\n",
    "        The PageRank (0 < ranking < 1) of each webpage\n",
    "    \n",
    "    Returns\n",
    "    -------\n",
    "        None\n",
    "    \n",
    "    Side Effects\n",
    "    ------------\n",
    "    Prints out each website in plain text in order of ranking\n",
    "    \"\"\"\n",
    "    \n",
    "    # Set the ranks of each result\n",
    "    ranked_result = sortperm(result, rev=true) # Initialise counter to print rankings\n",
    "    counter = 1\n",
    "    \n",
    "    # Print out rankings\n",
    "    for webpage_index in 1:size(result)[1] # Get index of this rank:\n",
    "        index = findall(x->x==webpage_index, ranked_result)[1]\n",
    "\n",
    "        # Print the web page\n",
    "        print(string(counter), \". \", webpages[index][1], \"\\n\")\n",
    "        counter = counter + 1\n",
    "    end\n",
    "end"
   ]
  },
  {
   "cell_type": "code",
   "execution_count": 4,
   "metadata": {},
   "outputs": [
    {
     "data": {
      "text/plain": [
       "4-element Array{Array{Any,1},1}:\n",
       " [\"https://one.com\", [\"https://two.com\"]]\n",
       " [\"https://two.com\", [\"https://three.com\"]]\n",
       " [\"https://three.com\", [\"https://two.com\", \"https://four.com\", \"https://one.com\"]]\n",
       " [\"https://four.com\", [\"https://two.com\", \"https://three.com\"]]"
      ]
     },
     "execution_count": 4,
     "metadata": {},
     "output_type": "execute_result"
    }
   ],
   "source": [
    "DATA = [\n",
    "    [\"https://one.com\", [\"https://two.com\"]], \n",
    "    [\"https://two.com\", [\"https://three.com\"]], \n",
    "    [\"https://three.com\", [\"https://two.com\", \"https://four.com\", \"https://one.com\"]],\n",
    "    [\"https://four.com\", [\"https://two.com\", \"https://three.com\"]]\n",
    "]"
   ]
  },
  {
   "cell_type": "code",
   "execution_count": 5,
   "metadata": {},
   "outputs": [
    {
     "data": {
      "text/plain": [
       "4×4 Array{Float64,2}:\n",
       " 0.0  0.0  0.333333  0.0\n",
       " 1.0  0.0  0.333333  0.5\n",
       " 0.0  1.0  0.0       0.5\n",
       " 0.0  0.0  0.333333  0.0"
      ]
     },
     "execution_count": 5,
     "metadata": {},
     "output_type": "execute_result"
    }
   ],
   "source": [
    "M = pre_process_webpages(DATA)"
   ]
  },
  {
   "cell_type": "code",
   "execution_count": 6,
   "metadata": {},
   "outputs": [
    {
     "data": {
      "text/plain": [
       "4-element Array{Float64,1}:\n",
       " 0.14509120716073326\n",
       " 0.3300833885110279\n",
       " 0.37973419716750556\n",
       " 0.14509120716073326"
      ]
     },
     "execution_count": 6,
     "metadata": {},
     "output_type": "execute_result"
    }
   ],
   "source": [
    "result = pagerank(M, 100, 0.85)"
   ]
  },
  {
   "cell_type": "code",
   "execution_count": 7,
   "metadata": {},
   "outputs": [
    {
     "name": "stdout",
     "output_type": "stream",
     "text": [
      "1. https://three.com\n",
      "2. https://two.com\n",
      "3. https://one.com\n",
      "4. https://four.com\n"
     ]
    }
   ],
   "source": [
    "print_output(DATA, result)"
   ]
  }
 ],
 "metadata": {
  "kernelspec": {
   "display_name": "Julia 1.5.3",
   "language": "julia",
   "name": "julia-1.5"
  },
  "language_info": {
   "file_extension": ".jl",
   "mimetype": "application/julia",
   "name": "julia",
   "version": "1.5.3"
  }
 },
 "nbformat": 4,
 "nbformat_minor": 4
}
